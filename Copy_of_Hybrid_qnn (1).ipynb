{
  "cells": [
    {
      "cell_type": "code",
      "execution_count": null,
      "metadata": {
        "id": "LFpYiMP6rL_1",
        "colab": {
          "base_uri": "https://localhost:8080/"
        },
        "outputId": "bf92cbcc-32bc-490d-9f6a-775d3da33cb7"
      },
      "outputs": [
        {
          "output_type": "stream",
          "name": "stdout",
          "text": [
            "Collecting qiskit_machine_learning\n",
            "  Downloading qiskit_machine_learning-0.8.2-py3-none-any.whl.metadata (13 kB)\n",
            "Collecting qiskit>=1.0 (from qiskit_machine_learning)\n",
            "  Downloading qiskit-2.0.0-cp39-abi3-manylinux_2_17_x86_64.manylinux2014_x86_64.whl.metadata (12 kB)\n",
            "Requirement already satisfied: scipy>=1.4 in /usr/local/lib/python3.11/dist-packages (from qiskit_machine_learning) (1.14.1)\n",
            "Requirement already satisfied: numpy>=1.17 in /usr/local/lib/python3.11/dist-packages (from qiskit_machine_learning) (2.0.2)\n",
            "Requirement already satisfied: psutil>=5 in /usr/local/lib/python3.11/dist-packages (from qiskit_machine_learning) (5.9.5)\n",
            "Requirement already satisfied: scikit-learn>=1.2 in /usr/local/lib/python3.11/dist-packages (from qiskit_machine_learning) (1.6.1)\n",
            "Requirement already satisfied: setuptools>=40.1 in /usr/local/lib/python3.11/dist-packages (from qiskit_machine_learning) (75.2.0)\n",
            "Collecting dill>=0.3.4 (from qiskit_machine_learning)\n",
            "  Downloading dill-0.4.0-py3-none-any.whl.metadata (10 kB)\n",
            "Collecting rustworkx>=0.15.0 (from qiskit>=1.0->qiskit_machine_learning)\n",
            "  Downloading rustworkx-0.16.0-cp39-abi3-manylinux_2_17_x86_64.manylinux2014_x86_64.whl.metadata (10 kB)\n",
            "Requirement already satisfied: sympy>=1.3 in /usr/local/lib/python3.11/dist-packages (from qiskit>=1.0->qiskit_machine_learning) (1.13.1)\n",
            "Requirement already satisfied: python-dateutil>=2.8.0 in /usr/local/lib/python3.11/dist-packages (from qiskit>=1.0->qiskit_machine_learning) (2.8.2)\n",
            "Collecting stevedore>=3.0.0 (from qiskit>=1.0->qiskit_machine_learning)\n",
            "  Downloading stevedore-5.4.1-py3-none-any.whl.metadata (2.3 kB)\n",
            "Requirement already satisfied: typing-extensions in /usr/local/lib/python3.11/dist-packages (from qiskit>=1.0->qiskit_machine_learning) (4.13.2)\n",
            "Collecting symengine<0.14,>=0.11 (from qiskit>=1.0->qiskit_machine_learning)\n",
            "  Downloading symengine-0.13.0-cp311-cp311-manylinux_2_17_x86_64.manylinux2014_x86_64.whl.metadata (1.2 kB)\n",
            "Requirement already satisfied: joblib>=1.2.0 in /usr/local/lib/python3.11/dist-packages (from scikit-learn>=1.2->qiskit_machine_learning) (1.4.2)\n",
            "Requirement already satisfied: threadpoolctl>=3.1.0 in /usr/local/lib/python3.11/dist-packages (from scikit-learn>=1.2->qiskit_machine_learning) (3.6.0)\n",
            "Requirement already satisfied: six>=1.5 in /usr/local/lib/python3.11/dist-packages (from python-dateutil>=2.8.0->qiskit>=1.0->qiskit_machine_learning) (1.17.0)\n",
            "Collecting pbr>=2.0.0 (from stevedore>=3.0.0->qiskit>=1.0->qiskit_machine_learning)\n",
            "  Downloading pbr-6.1.1-py2.py3-none-any.whl.metadata (3.4 kB)\n",
            "Requirement already satisfied: mpmath<1.4,>=1.1.0 in /usr/local/lib/python3.11/dist-packages (from sympy>=1.3->qiskit>=1.0->qiskit_machine_learning) (1.3.0)\n",
            "Downloading qiskit_machine_learning-0.8.2-py3-none-any.whl (231 kB)\n",
            "\u001b[2K   \u001b[90m━━━━━━━━━━━━━━━━━━━━━━━━━━━━━━━━━━━━━━━━\u001b[0m \u001b[32m231.6/231.6 kB\u001b[0m \u001b[31m11.5 MB/s\u001b[0m eta \u001b[36m0:00:00\u001b[0m\n",
            "\u001b[?25hDownloading dill-0.4.0-py3-none-any.whl (119 kB)\n",
            "\u001b[2K   \u001b[90m━━━━━━━━━━━━━━━━━━━━━━━━━━━━━━━━━━━━━━━━\u001b[0m \u001b[32m119.7/119.7 kB\u001b[0m \u001b[31m12.9 MB/s\u001b[0m eta \u001b[36m0:00:00\u001b[0m\n",
            "\u001b[?25hDownloading qiskit-2.0.0-cp39-abi3-manylinux_2_17_x86_64.manylinux2014_x86_64.whl (6.5 MB)\n",
            "\u001b[2K   \u001b[90m━━━━━━━━━━━━━━━━━━━━━━━━━━━━━━━━━━━━━━━━\u001b[0m \u001b[32m6.5/6.5 MB\u001b[0m \u001b[31m107.8 MB/s\u001b[0m eta \u001b[36m0:00:00\u001b[0m\n",
            "\u001b[?25hDownloading rustworkx-0.16.0-cp39-abi3-manylinux_2_17_x86_64.manylinux2014_x86_64.whl (2.1 MB)\n",
            "\u001b[2K   \u001b[90m━━━━━━━━━━━━━━━━━━━━━━━━━━━━━━━━━━━━━━━━\u001b[0m \u001b[32m2.1/2.1 MB\u001b[0m \u001b[31m101.5 MB/s\u001b[0m eta \u001b[36m0:00:00\u001b[0m\n",
            "\u001b[?25hDownloading stevedore-5.4.1-py3-none-any.whl (49 kB)\n",
            "\u001b[2K   \u001b[90m━━━━━━━━━━━━━━━━━━━━━━━━━━━━━━━━━━━━━━━━\u001b[0m \u001b[32m49.5/49.5 kB\u001b[0m \u001b[31m4.7 MB/s\u001b[0m eta \u001b[36m0:00:00\u001b[0m\n",
            "\u001b[?25hDownloading symengine-0.13.0-cp311-cp311-manylinux_2_17_x86_64.manylinux2014_x86_64.whl (49.7 MB)\n",
            "\u001b[2K   \u001b[90m━━━━━━━━━━━━━━━━━━━━━━━━━━━━━━━━━━━━━━━━\u001b[0m \u001b[32m49.7/49.7 MB\u001b[0m \u001b[31m19.7 MB/s\u001b[0m eta \u001b[36m0:00:00\u001b[0m\n",
            "\u001b[?25hDownloading pbr-6.1.1-py2.py3-none-any.whl (108 kB)\n",
            "\u001b[2K   \u001b[90m━━━━━━━━━━━━━━━━━━━━━━━━━━━━━━━━━━━━━━━━\u001b[0m \u001b[32m109.0/109.0 kB\u001b[0m \u001b[31m11.4 MB/s\u001b[0m eta \u001b[36m0:00:00\u001b[0m\n",
            "\u001b[?25hInstalling collected packages: symengine, rustworkx, pbr, dill, stevedore, qiskit, qiskit_machine_learning\n",
            "Successfully installed dill-0.4.0 pbr-6.1.1 qiskit-2.0.0 qiskit_machine_learning-0.8.2 rustworkx-0.16.0 stevedore-5.4.1 symengine-0.13.0\n"
          ]
        }
      ],
      "source": [
        "!pip install qiskit_machine_learning"
      ]
    },
    {
      "cell_type": "code",
      "execution_count": null,
      "metadata": {
        "id": "02BkZ8jmXgug",
        "colab": {
          "base_uri": "https://localhost:8080/"
        },
        "outputId": "51b8eb0e-3cbb-45cb-c6fc-8c647255a6b5"
      },
      "outputs": [
        {
          "output_type": "stream",
          "name": "stdout",
          "text": [
            "Tue Apr 22 12:56:40 2025       \n",
            "+-----------------------------------------------------------------------------------------+\n",
            "| NVIDIA-SMI 550.54.15              Driver Version: 550.54.15      CUDA Version: 12.4     |\n",
            "|-----------------------------------------+------------------------+----------------------+\n",
            "| GPU  Name                 Persistence-M | Bus-Id          Disp.A | Volatile Uncorr. ECC |\n",
            "| Fan  Temp   Perf          Pwr:Usage/Cap |           Memory-Usage | GPU-Util  Compute M. |\n",
            "|                                         |                        |               MIG M. |\n",
            "|=========================================+========================+======================|\n",
            "|   0  Tesla T4                       Off |   00000000:00:04.0 Off |                    0 |\n",
            "| N/A   57C    P8             10W /   70W |       0MiB /  15360MiB |      0%      Default |\n",
            "|                                         |                        |                  N/A |\n",
            "+-----------------------------------------+------------------------+----------------------+\n",
            "                                                                                         \n",
            "+-----------------------------------------------------------------------------------------+\n",
            "| Processes:                                                                              |\n",
            "|  GPU   GI   CI        PID   Type   Process name                              GPU Memory |\n",
            "|        ID   ID                                                               Usage      |\n",
            "|=========================================================================================|\n",
            "|  No running processes found                                                             |\n",
            "+-----------------------------------------------------------------------------------------+\n"
          ]
        }
      ],
      "source": [
        "!nvidia-smi"
      ]
    },
    {
      "cell_type": "code",
      "execution_count": null,
      "metadata": {
        "id": "7vKKybxTcerq",
        "colab": {
          "base_uri": "https://localhost:8080/"
        },
        "outputId": "befcd478-19e0-400b-940a-7afd532c5d86"
      },
      "outputs": [
        {
          "output_type": "stream",
          "name": "stdout",
          "text": [
            "Requirement already satisfied: torch in /usr/local/lib/python3.11/dist-packages (2.6.0+cu124)\n",
            "Requirement already satisfied: torchvision in /usr/local/lib/python3.11/dist-packages (0.21.0+cu124)\n",
            "Requirement already satisfied: qiskit in /usr/local/lib/python3.11/dist-packages (2.0.0)\n",
            "Collecting qiskit-aer\n",
            "  Downloading qiskit_aer-0.17.0-cp311-cp311-manylinux_2_17_x86_64.manylinux2014_x86_64.whl.metadata (8.2 kB)\n",
            "Requirement already satisfied: filelock in /usr/local/lib/python3.11/dist-packages (from torch) (3.18.0)\n",
            "Requirement already satisfied: typing-extensions>=4.10.0 in /usr/local/lib/python3.11/dist-packages (from torch) (4.13.2)\n",
            "Requirement already satisfied: networkx in /usr/local/lib/python3.11/dist-packages (from torch) (3.4.2)\n",
            "Requirement already satisfied: jinja2 in /usr/local/lib/python3.11/dist-packages (from torch) (3.1.6)\n",
            "Requirement already satisfied: fsspec in /usr/local/lib/python3.11/dist-packages (from torch) (2025.3.2)\n",
            "Collecting nvidia-cuda-nvrtc-cu12==12.4.127 (from torch)\n",
            "  Downloading nvidia_cuda_nvrtc_cu12-12.4.127-py3-none-manylinux2014_x86_64.whl.metadata (1.5 kB)\n",
            "Collecting nvidia-cuda-runtime-cu12==12.4.127 (from torch)\n",
            "  Downloading nvidia_cuda_runtime_cu12-12.4.127-py3-none-manylinux2014_x86_64.whl.metadata (1.5 kB)\n",
            "Collecting nvidia-cuda-cupti-cu12==12.4.127 (from torch)\n",
            "  Downloading nvidia_cuda_cupti_cu12-12.4.127-py3-none-manylinux2014_x86_64.whl.metadata (1.6 kB)\n",
            "Collecting nvidia-cudnn-cu12==9.1.0.70 (from torch)\n",
            "  Downloading nvidia_cudnn_cu12-9.1.0.70-py3-none-manylinux2014_x86_64.whl.metadata (1.6 kB)\n",
            "Collecting nvidia-cublas-cu12==12.4.5.8 (from torch)\n",
            "  Downloading nvidia_cublas_cu12-12.4.5.8-py3-none-manylinux2014_x86_64.whl.metadata (1.5 kB)\n",
            "Collecting nvidia-cufft-cu12==11.2.1.3 (from torch)\n",
            "  Downloading nvidia_cufft_cu12-11.2.1.3-py3-none-manylinux2014_x86_64.whl.metadata (1.5 kB)\n",
            "Collecting nvidia-curand-cu12==10.3.5.147 (from torch)\n",
            "  Downloading nvidia_curand_cu12-10.3.5.147-py3-none-manylinux2014_x86_64.whl.metadata (1.5 kB)\n",
            "Collecting nvidia-cusolver-cu12==11.6.1.9 (from torch)\n",
            "  Downloading nvidia_cusolver_cu12-11.6.1.9-py3-none-manylinux2014_x86_64.whl.metadata (1.6 kB)\n",
            "Collecting nvidia-cusparse-cu12==12.3.1.170 (from torch)\n",
            "  Downloading nvidia_cusparse_cu12-12.3.1.170-py3-none-manylinux2014_x86_64.whl.metadata (1.6 kB)\n",
            "Requirement already satisfied: nvidia-cusparselt-cu12==0.6.2 in /usr/local/lib/python3.11/dist-packages (from torch) (0.6.2)\n",
            "Requirement already satisfied: nvidia-nccl-cu12==2.21.5 in /usr/local/lib/python3.11/dist-packages (from torch) (2.21.5)\n",
            "Requirement already satisfied: nvidia-nvtx-cu12==12.4.127 in /usr/local/lib/python3.11/dist-packages (from torch) (12.4.127)\n",
            "Collecting nvidia-nvjitlink-cu12==12.4.127 (from torch)\n",
            "  Downloading nvidia_nvjitlink_cu12-12.4.127-py3-none-manylinux2014_x86_64.whl.metadata (1.5 kB)\n",
            "Requirement already satisfied: triton==3.2.0 in /usr/local/lib/python3.11/dist-packages (from torch) (3.2.0)\n",
            "Requirement already satisfied: sympy==1.13.1 in /usr/local/lib/python3.11/dist-packages (from torch) (1.13.1)\n",
            "Requirement already satisfied: mpmath<1.4,>=1.1.0 in /usr/local/lib/python3.11/dist-packages (from sympy==1.13.1->torch) (1.3.0)\n",
            "Requirement already satisfied: numpy in /usr/local/lib/python3.11/dist-packages (from torchvision) (2.0.2)\n",
            "Requirement already satisfied: pillow!=8.3.*,>=5.3.0 in /usr/local/lib/python3.11/dist-packages (from torchvision) (11.1.0)\n",
            "Requirement already satisfied: rustworkx>=0.15.0 in /usr/local/lib/python3.11/dist-packages (from qiskit) (0.16.0)\n",
            "Requirement already satisfied: scipy>=1.5 in /usr/local/lib/python3.11/dist-packages (from qiskit) (1.14.1)\n",
            "Requirement already satisfied: dill>=0.3 in /usr/local/lib/python3.11/dist-packages (from qiskit) (0.4.0)\n",
            "Requirement already satisfied: python-dateutil>=2.8.0 in /usr/local/lib/python3.11/dist-packages (from qiskit) (2.8.2)\n",
            "Requirement already satisfied: stevedore>=3.0.0 in /usr/local/lib/python3.11/dist-packages (from qiskit) (5.4.1)\n",
            "Requirement already satisfied: symengine<0.14,>=0.11 in /usr/local/lib/python3.11/dist-packages (from qiskit) (0.13.0)\n",
            "Requirement already satisfied: psutil>=5 in /usr/local/lib/python3.11/dist-packages (from qiskit-aer) (5.9.5)\n",
            "Requirement already satisfied: six>=1.5 in /usr/local/lib/python3.11/dist-packages (from python-dateutil>=2.8.0->qiskit) (1.17.0)\n",
            "Requirement already satisfied: pbr>=2.0.0 in /usr/local/lib/python3.11/dist-packages (from stevedore>=3.0.0->qiskit) (6.1.1)\n",
            "Requirement already satisfied: MarkupSafe>=2.0 in /usr/local/lib/python3.11/dist-packages (from jinja2->torch) (3.0.2)\n",
            "Requirement already satisfied: setuptools in /usr/local/lib/python3.11/dist-packages (from pbr>=2.0.0->stevedore>=3.0.0->qiskit) (75.2.0)\n",
            "Downloading nvidia_cublas_cu12-12.4.5.8-py3-none-manylinux2014_x86_64.whl (363.4 MB)\n",
            "\u001b[2K   \u001b[90m━━━━━━━━━━━━━━━━━━━━━━━━━━━━━━━━━━━━━━━━\u001b[0m \u001b[32m363.4/363.4 MB\u001b[0m \u001b[31m3.8 MB/s\u001b[0m eta \u001b[36m0:00:00\u001b[0m\n",
            "\u001b[?25hDownloading nvidia_cuda_cupti_cu12-12.4.127-py3-none-manylinux2014_x86_64.whl (13.8 MB)\n",
            "\u001b[2K   \u001b[90m━━━━━━━━━━━━━━━━━━━━━━━━━━━━━━━━━━━━━━━━\u001b[0m \u001b[32m13.8/13.8 MB\u001b[0m \u001b[31m36.2 MB/s\u001b[0m eta \u001b[36m0:00:00\u001b[0m\n",
            "\u001b[?25hDownloading nvidia_cuda_nvrtc_cu12-12.4.127-py3-none-manylinux2014_x86_64.whl (24.6 MB)\n",
            "\u001b[2K   \u001b[90m━━━━━━━━━━━━━━━━━━━━━━━━━━━━━━━━━━━━━━━━\u001b[0m \u001b[32m24.6/24.6 MB\u001b[0m \u001b[31m32.4 MB/s\u001b[0m eta \u001b[36m0:00:00\u001b[0m\n",
            "\u001b[?25hDownloading nvidia_cuda_runtime_cu12-12.4.127-py3-none-manylinux2014_x86_64.whl (883 kB)\n",
            "\u001b[2K   \u001b[90m━━━━━━━━━━━━━━━━━━━━━━━━━━━━━━━━━━━━━━━━\u001b[0m \u001b[32m883.7/883.7 kB\u001b[0m \u001b[31m31.2 MB/s\u001b[0m eta \u001b[36m0:00:00\u001b[0m\n",
            "\u001b[?25hDownloading nvidia_cudnn_cu12-9.1.0.70-py3-none-manylinux2014_x86_64.whl (664.8 MB)\n",
            "\u001b[2K   \u001b[90m━━━━━━━━━━━━━━━━━━━━━━━━━━━━━━━━━━━━━━━━\u001b[0m \u001b[32m664.8/664.8 MB\u001b[0m \u001b[31m2.8 MB/s\u001b[0m eta \u001b[36m0:00:00\u001b[0m\n",
            "\u001b[?25hDownloading nvidia_cufft_cu12-11.2.1.3-py3-none-manylinux2014_x86_64.whl (211.5 MB)\n",
            "\u001b[2K   \u001b[90m━━━━━━━━━━━━━━━━━━━━━━━━━━━━━━━━━━━━━━━━\u001b[0m \u001b[32m211.5/211.5 MB\u001b[0m \u001b[31m5.4 MB/s\u001b[0m eta \u001b[36m0:00:00\u001b[0m\n",
            "\u001b[?25hDownloading nvidia_curand_cu12-10.3.5.147-py3-none-manylinux2014_x86_64.whl (56.3 MB)\n",
            "\u001b[2K   \u001b[90m━━━━━━━━━━━━━━━━━━━━━━━━━━━━━━━━━━━━━━━━\u001b[0m \u001b[32m56.3/56.3 MB\u001b[0m \u001b[31m13.3 MB/s\u001b[0m eta \u001b[36m0:00:00\u001b[0m\n",
            "\u001b[?25hDownloading nvidia_cusolver_cu12-11.6.1.9-py3-none-manylinux2014_x86_64.whl (127.9 MB)\n",
            "\u001b[2K   \u001b[90m━━━━━━━━━━━━━━━━━━━━━━━━━━━━━━━━━━━━━━━━\u001b[0m \u001b[32m127.9/127.9 MB\u001b[0m \u001b[31m7.5 MB/s\u001b[0m eta \u001b[36m0:00:00\u001b[0m\n",
            "\u001b[?25hDownloading nvidia_cusparse_cu12-12.3.1.170-py3-none-manylinux2014_x86_64.whl (207.5 MB)\n",
            "\u001b[2K   \u001b[90m━━━━━━━━━━━━━━━━━━━━━━━━━━━━━━━━━━━━━━━━\u001b[0m \u001b[32m207.5/207.5 MB\u001b[0m \u001b[31m6.4 MB/s\u001b[0m eta \u001b[36m0:00:00\u001b[0m\n",
            "\u001b[?25hDownloading nvidia_nvjitlink_cu12-12.4.127-py3-none-manylinux2014_x86_64.whl (21.1 MB)\n",
            "\u001b[2K   \u001b[90m━━━━━━━━━━━━━━━━━━━━━━━━━━━━━━━━━━━━━━━━\u001b[0m \u001b[32m21.1/21.1 MB\u001b[0m \u001b[31m106.8 MB/s\u001b[0m eta \u001b[36m0:00:00\u001b[0m\n",
            "\u001b[?25hDownloading qiskit_aer-0.17.0-cp311-cp311-manylinux_2_17_x86_64.manylinux2014_x86_64.whl (12.4 MB)\n",
            "\u001b[2K   \u001b[90m━━━━━━━━━━━━━━━━━━━━━━━━━━━━━━━━━━━━━━━━\u001b[0m \u001b[32m12.4/12.4 MB\u001b[0m \u001b[31m136.9 MB/s\u001b[0m eta \u001b[36m0:00:00\u001b[0m\n",
            "\u001b[?25hInstalling collected packages: nvidia-nvjitlink-cu12, nvidia-curand-cu12, nvidia-cufft-cu12, nvidia-cuda-runtime-cu12, nvidia-cuda-nvrtc-cu12, nvidia-cuda-cupti-cu12, nvidia-cublas-cu12, nvidia-cusparse-cu12, nvidia-cudnn-cu12, nvidia-cusolver-cu12, qiskit-aer\n",
            "  Attempting uninstall: nvidia-nvjitlink-cu12\n",
            "    Found existing installation: nvidia-nvjitlink-cu12 12.5.82\n",
            "    Uninstalling nvidia-nvjitlink-cu12-12.5.82:\n",
            "      Successfully uninstalled nvidia-nvjitlink-cu12-12.5.82\n",
            "  Attempting uninstall: nvidia-curand-cu12\n",
            "    Found existing installation: nvidia-curand-cu12 10.3.6.82\n",
            "    Uninstalling nvidia-curand-cu12-10.3.6.82:\n",
            "      Successfully uninstalled nvidia-curand-cu12-10.3.6.82\n",
            "  Attempting uninstall: nvidia-cufft-cu12\n",
            "    Found existing installation: nvidia-cufft-cu12 11.2.3.61\n",
            "    Uninstalling nvidia-cufft-cu12-11.2.3.61:\n",
            "      Successfully uninstalled nvidia-cufft-cu12-11.2.3.61\n",
            "  Attempting uninstall: nvidia-cuda-runtime-cu12\n",
            "    Found existing installation: nvidia-cuda-runtime-cu12 12.5.82\n",
            "    Uninstalling nvidia-cuda-runtime-cu12-12.5.82:\n",
            "      Successfully uninstalled nvidia-cuda-runtime-cu12-12.5.82\n",
            "  Attempting uninstall: nvidia-cuda-nvrtc-cu12\n",
            "    Found existing installation: nvidia-cuda-nvrtc-cu12 12.5.82\n",
            "    Uninstalling nvidia-cuda-nvrtc-cu12-12.5.82:\n",
            "      Successfully uninstalled nvidia-cuda-nvrtc-cu12-12.5.82\n",
            "  Attempting uninstall: nvidia-cuda-cupti-cu12\n",
            "    Found existing installation: nvidia-cuda-cupti-cu12 12.5.82\n",
            "    Uninstalling nvidia-cuda-cupti-cu12-12.5.82:\n",
            "      Successfully uninstalled nvidia-cuda-cupti-cu12-12.5.82\n",
            "  Attempting uninstall: nvidia-cublas-cu12\n",
            "    Found existing installation: nvidia-cublas-cu12 12.5.3.2\n",
            "    Uninstalling nvidia-cublas-cu12-12.5.3.2:\n",
            "      Successfully uninstalled nvidia-cublas-cu12-12.5.3.2\n",
            "  Attempting uninstall: nvidia-cusparse-cu12\n",
            "    Found existing installation: nvidia-cusparse-cu12 12.5.1.3\n",
            "    Uninstalling nvidia-cusparse-cu12-12.5.1.3:\n",
            "      Successfully uninstalled nvidia-cusparse-cu12-12.5.1.3\n",
            "  Attempting uninstall: nvidia-cudnn-cu12\n",
            "    Found existing installation: nvidia-cudnn-cu12 9.3.0.75\n",
            "    Uninstalling nvidia-cudnn-cu12-9.3.0.75:\n",
            "      Successfully uninstalled nvidia-cudnn-cu12-9.3.0.75\n",
            "  Attempting uninstall: nvidia-cusolver-cu12\n",
            "    Found existing installation: nvidia-cusolver-cu12 11.6.3.83\n",
            "    Uninstalling nvidia-cusolver-cu12-11.6.3.83:\n",
            "      Successfully uninstalled nvidia-cusolver-cu12-11.6.3.83\n",
            "Successfully installed nvidia-cublas-cu12-12.4.5.8 nvidia-cuda-cupti-cu12-12.4.127 nvidia-cuda-nvrtc-cu12-12.4.127 nvidia-cuda-runtime-cu12-12.4.127 nvidia-cudnn-cu12-9.1.0.70 nvidia-cufft-cu12-11.2.1.3 nvidia-curand-cu12-10.3.5.147 nvidia-cusolver-cu12-11.6.1.9 nvidia-cusparse-cu12-12.3.1.170 nvidia-nvjitlink-cu12-12.4.127 qiskit-aer-0.17.0\n"
          ]
        }
      ],
      "source": [
        "!pip install torch torchvision qiskit qiskit-aer"
      ]
    },
    {
      "cell_type": "code",
      "execution_count": null,
      "metadata": {
        "id": "Vgo1iV7Y4M2Z",
        "colab": {
          "base_uri": "https://localhost:8080/"
        },
        "outputId": "daf4ccec-d48d-4ae6-ca8b-92fab440e5d9"
      },
      "outputs": [
        {
          "output_type": "stream",
          "name": "stdout",
          "text": [
            "Mounted at /content/drive\n"
          ]
        }
      ],
      "source": [
        "from google.colab import drive\n",
        "drive.mount('/content/drive')"
      ]
    },
    {
      "cell_type": "code",
      "execution_count": null,
      "metadata": {
        "id": "B-ajNMorIR44"
      },
      "outputs": [],
      "source": [
        "import torch\n",
        "import torch.nn as nn\n",
        "import torch.optim as optim\n",
        "from qiskit import QuantumCircuit, transpile\n",
        "from qiskit_aer import AerSimulator\n",
        "import numpy as np\n",
        "from torch.utils.data import Dataset, DataLoader\n",
        "from torchvision import transforms\n",
        "from PIL import Image\n",
        "import glob\n",
        "import pandas as pd\n",
        "from sklearn.preprocessing import LabelEncoder\n",
        "import os\n",
        "from sklearn.model_selection import train_test_split\n",
        "from torch.utils.data import Subset\n",
        "import matplotlib.pyplot as plt"
      ]
    },
    {
      "cell_type": "code",
      "execution_count": null,
      "metadata": {
        "id": "274OiA84Ii6B"
      },
      "outputs": [],
      "source": [
        "# Read CSV and encode labels\n",
        "csv_file = \"/content/drive/MyDrive/input_files/patient_diagnosis.csv\"\n",
        "df = pd.read_csv(csv_file, header=None)\n",
        "df.columns = ['p_no', 'diagnosis']\n",
        "label_encoder = LabelEncoder()\n",
        "df['encoded_diagnosis'] = label_encoder.fit_transform(df['diagnosis'])\n",
        "\n",
        "# Custom Dataset\n",
        "class SpectrogramDataset(Dataset):\n",
        "    def __init__(self, image_folder,label, dataframe, transform=None):\n",
        "        self.label = label\n",
        "        self.image_paths = glob.glob(os.path.join(image_folder, \"*.png\"))\n",
        "        self.df = dataframe\n",
        "        self.transform = transform\n",
        "\n",
        "    def __len__(self):\n",
        "        return len(self.image_paths)\n",
        "\n",
        "    def __getitem__(self, idx):\n",
        "        img_path = self.image_paths[idx]\n",
        "       # patient_id = int(os.path.basename(img_path).split(\"_\")[0])\n",
        "       # label = self.df[self.df['p_no'] == patient_id]['encoded_diagnosis'].values[0]'''\n",
        "\n",
        "        image = Image.open(img_path)\n",
        "        if self.transform:\n",
        "            image = self.transform(image)\n",
        "\n",
        "        return image, self.label\n"
      ]
    },
    {
      "cell_type": "code",
      "execution_count": null,
      "metadata": {
        "id": "yUWfPw9iJEmO"
      },
      "outputs": [],
      "source": [
        "# Define image transform\n",
        "transform = transforms.Compose([\n",
        "    transforms.Resize((32, 32)),       # Resize to match CNN input (or your target)\n",
        "    # transforms.Grayscale(num_output_channels=1),  # Ensure grayscale\n",
        "    transforms.ToTensor(),\n",
        "    transforms.Normalize((0.5,), (0.5,))\n",
        "])"
      ]
    },
    {
      "cell_type": "code",
      "source": [
        "full_dataset = []\n",
        "\n",
        "image_folder = \"/content/drive/MyDrive/augmented_spectrograms/Asthma\"\n",
        "asthma = SpectrogramDataset(image_folder=image_folder, label=0, dataframe=df, transform=transform)\n",
        "\n",
        "full_dataset.extend([asthma[0]])\n",
        "\n",
        "len(asthma), type(asthma), len(full_dataset)"
      ],
      "metadata": {
        "id": "dXzDMFN_TvGi",
        "colab": {
          "base_uri": "https://localhost:8080/"
        },
        "outputId": "9b7b8eb9-a3ab-4405-f3f7-bebb44d3008d"
      },
      "execution_count": null,
      "outputs": [
        {
          "output_type": "execute_result",
          "data": {
            "text/plain": [
              "(28, __main__.SpectrogramDataset, 1)"
            ]
          },
          "metadata": {},
          "execution_count": 8
        }
      ]
    },
    {
      "cell_type": "code",
      "source": [
        "full_dataset = []"
      ],
      "metadata": {
        "id": "1xNV_XUclji9"
      },
      "execution_count": null,
      "outputs": []
    },
    {
      "cell_type": "code",
      "source": [
        "image_folder = \"/content/drive/MyDrive/augmented_spectrograms/Bronchiectasis\"\n",
        "help = SpectrogramDataset(image_folder=image_folder, label=0, dataframe=df, transform=transform)\n",
        "\n",
        "full_dataset.extend(help)\n",
        "\n",
        "len(help), type(help), len(full_dataset)"
      ],
      "metadata": {
        "id": "l5Q6WQdqWrAV",
        "colab": {
          "base_uri": "https://localhost:8080/"
        },
        "outputId": "d2287617-cce6-4f04-dda7-5c0e325f15e2"
      },
      "execution_count": null,
      "outputs": [
        {
          "output_type": "execute_result",
          "data": {
            "text/plain": [
              "(444, __main__.SpectrogramDataset, 444)"
            ]
          },
          "metadata": {},
          "execution_count": 10
        }
      ]
    },
    {
      "cell_type": "code",
      "source": [
        "image_folder = \"/content/drive/MyDrive/augmented_spectrograms/Bronchiolitis\"\n",
        "help = SpectrogramDataset(image_folder=image_folder, label=1, dataframe=df, transform=transform)\n",
        "\n",
        "full_dataset.extend(help)\n",
        "\n",
        "len(help), type(help), len(full_dataset)"
      ],
      "metadata": {
        "id": "1Kjg4yynWrKD",
        "colab": {
          "base_uri": "https://localhost:8080/"
        },
        "outputId": "1a6dfc55-3cca-46b6-f96b-d817d6b2f76c"
      },
      "execution_count": null,
      "outputs": [
        {
          "output_type": "execute_result",
          "data": {
            "text/plain": [
              "(361, __main__.SpectrogramDataset, 805)"
            ]
          },
          "metadata": {},
          "execution_count": 11
        }
      ]
    },
    {
      "cell_type": "code",
      "source": [
        "image_folder = \"/content/drive/MyDrive/augmented_spectrograms/COPD\"\n",
        "help = SpectrogramDataset(image_folder=image_folder, label=2, dataframe=df, transform=transform)\n",
        "\n",
        "full_dataset.extend(help)\n",
        "\n",
        "len(help), type(help), len(full_dataset)"
      ],
      "metadata": {
        "id": "adwLkupfWrS8",
        "colab": {
          "base_uri": "https://localhost:8080/"
        },
        "outputId": "909a1fdb-56ca-4a4d-c635-8746e08cfc0d"
      },
      "execution_count": null,
      "outputs": [
        {
          "output_type": "execute_result",
          "data": {
            "text/plain": [
              "(793, __main__.SpectrogramDataset, 1598)"
            ]
          },
          "metadata": {},
          "execution_count": 12
        }
      ]
    },
    {
      "cell_type": "code",
      "source": [
        "image_folder = \"/content/drive/MyDrive/augmented_spectrograms/Healthy\"\n",
        "help = SpectrogramDataset(image_folder=image_folder, label=3, dataframe=df, transform=transform)\n",
        "\n",
        "full_dataset.extend(help)\n",
        "\n",
        "len(help), type(help), len(full_dataset)"
      ],
      "metadata": {
        "id": "V-ejhd87WrYU",
        "colab": {
          "base_uri": "https://localhost:8080/"
        },
        "outputId": "a8c650bd-bcf9-409f-99e6-e56e65d6ef8d"
      },
      "execution_count": null,
      "outputs": [
        {
          "output_type": "execute_result",
          "data": {
            "text/plain": [
              "(952, __main__.SpectrogramDataset, 2550)"
            ]
          },
          "metadata": {},
          "execution_count": 13
        }
      ]
    },
    {
      "cell_type": "code",
      "source": [
        "image_folder = \"/content/drive/MyDrive/augmented_spectrograms/Pneumonia\"\n",
        "help = SpectrogramDataset(image_folder=image_folder, label=4, dataframe=df, transform=transform)\n",
        "\n",
        "full_dataset.extend(help)\n",
        "\n",
        "len(help), type(help), len(full_dataset)"
      ],
      "metadata": {
        "id": "YaX0O38RWrd8",
        "colab": {
          "base_uri": "https://localhost:8080/"
        },
        "outputId": "5986725a-f2f1-49c6-d868-90ae0daa2635"
      },
      "execution_count": null,
      "outputs": [
        {
          "output_type": "execute_result",
          "data": {
            "text/plain": [
              "(1028, __main__.SpectrogramDataset, 3578)"
            ]
          },
          "metadata": {},
          "execution_count": 14
        }
      ]
    },
    {
      "cell_type": "code",
      "source": [
        "image_folder = \"/content/drive/MyDrive/augmented_spectrograms/URTI\"\n",
        "help = SpectrogramDataset(image_folder=image_folder, label=5, dataframe=df, transform=transform)\n",
        "\n",
        "full_dataset.extend(help)\n",
        "\n",
        "len(help), type(help), len(full_dataset)"
      ],
      "metadata": {
        "id": "Nj5ogB9RWrnc",
        "colab": {
          "base_uri": "https://localhost:8080/"
        },
        "outputId": "587b921d-daee-429c-b6ff-15202646715b"
      },
      "execution_count": null,
      "outputs": [
        {
          "output_type": "execute_result",
          "data": {
            "text/plain": [
              "(631, __main__.SpectrogramDataset, 4209)"
            ]
          },
          "metadata": {},
          "execution_count": 15
        }
      ]
    },
    {
      "cell_type": "code",
      "source": [
        "asthma[0], full_dataset[0]"
      ],
      "metadata": {
        "id": "ZnDTBGN7VSKd",
        "colab": {
          "base_uri": "https://localhost:8080/"
        },
        "outputId": "ff139b99-6728-4d2c-b03b-29da28de7d14"
      },
      "execution_count": null,
      "outputs": [
        {
          "output_type": "execute_result",
          "data": {
            "text/plain": [
              "((tensor([[[-1.0000, -1.0000, -1.0000,  ..., -1.0000, -1.0000, -1.0000],\n",
              "           [-1.0000, -1.0000, -1.0000,  ..., -1.0000, -1.0000, -1.0000],\n",
              "           [-1.0000, -1.0000, -1.0000,  ..., -1.0000, -1.0000, -1.0000],\n",
              "           ...,\n",
              "           [ 0.3725, -0.6157, -0.4667,  ..., -0.8353, -0.8196, -0.4353],\n",
              "           [ 0.7412, -0.0196, -0.0353,  ..., -0.2471, -0.1922,  0.1294],\n",
              "           [ 0.7333,  0.7098,  0.6706,  ...,  0.6078,  0.5922,  0.8039]],\n",
              "  \n",
              "          [[-0.2941, -0.9294, -1.0000,  ..., -1.0000, -0.9608, -0.6157],\n",
              "           [-0.1451, -0.9137, -1.0000,  ..., -1.0000, -0.9608, -0.6000],\n",
              "           [-0.0824, -0.9137, -1.0000,  ..., -0.9373, -0.9529, -0.5765],\n",
              "           ...,\n",
              "           [ 0.9922,  0.9059,  0.9059,  ...,  0.6863,  0.7020,  0.9216],\n",
              "           [ 0.7804,  0.9373,  0.9922,  ...,  0.9843,  0.9843,  0.9608],\n",
              "           [-0.2314, -0.0196,  0.2314,  ...,  0.1843,  0.1765,  0.2471]],\n",
              "  \n",
              "          [[ 0.7098,  0.2549,  0.7020,  ...,  0.1529,  0.0588,  0.7098],\n",
              "           [ 0.8118,  0.4980,  0.7961,  ...,  0.5059,  0.2314,  0.7647],\n",
              "           [ 0.8745,  0.6314,  0.8353,  ...,  0.7412,  0.5608,  0.8824],\n",
              "           ...,\n",
              "           [-0.4431,  0.5529,  0.4118,  ...,  0.7961,  0.7804,  0.3725],\n",
              "           [-0.7804, -0.0510, -0.0353,  ...,  0.1765,  0.1216, -0.1922],\n",
              "           [-0.9843, -0.8510, -0.7333,  ..., -0.6549, -0.6549, -0.8353]]]),\n",
              "  0),\n",
              " (tensor([[[-0.5843, -0.5765, -0.7020,  ..., -1.0000, -1.0000, -1.0000],\n",
              "           [-0.1137,  0.0275, -0.2941,  ..., -1.0000, -1.0000, -1.0000],\n",
              "           [ 0.2784,  0.3647,  0.1608,  ..., -1.0000, -1.0000, -1.0000],\n",
              "           ...,\n",
              "           [ 0.8353,  0.9843,  0.9922,  ...,  0.2706,  0.5529,  0.4196],\n",
              "           [ 0.9608,  0.9451,  1.0000,  ...,  0.8824,  0.9373,  0.8824],\n",
              "           [ 0.8275,  0.6941,  0.9608,  ...,  0.9843,  0.8039,  0.8824]],\n",
              "  \n",
              "          [[ 0.9529,  0.8353,  0.7020,  ..., -0.6941, -0.6706, -0.1843],\n",
              "           [ 1.0000,  1.0000,  0.9922,  ..., -0.3882, -0.3569, -0.0196],\n",
              "           [ 1.0000,  1.0000,  1.0000,  ..., -0.0431, -0.0902,  0.1137],\n",
              "           ...,\n",
              "           [ 0.7647,  0.5373,  0.5843,  ...,  0.9922,  0.9137,  0.9529],\n",
              "           [ 0.2078, -0.0431,  0.3647,  ...,  0.6784,  0.2863,  0.5059],\n",
              "           [-0.0275, -0.4431,  0.0039,  ..., -0.2706, -0.5608, -0.2549]],\n",
              "  \n",
              "          [[ 0.5216,  0.5216,  0.6549,  ...,  0.7412,  0.8510,  0.9137],\n",
              "           [ 0.0431, -0.1059,  0.2235,  ...,  1.0000,  1.0000,  1.0000],\n",
              "           [-0.3490, -0.4353, -0.2314,  ...,  1.0000,  1.0000,  1.0000],\n",
              "           ...,\n",
              "           [-0.8745, -0.9922, -1.0000,  ..., -0.3412, -0.6078, -0.4902],\n",
              "           [-1.0000, -1.0000, -1.0000,  ..., -0.9137, -0.9765, -0.9216],\n",
              "           [-1.0000, -1.0000, -1.0000,  ..., -1.0000, -1.0000, -1.0000]]]),\n",
              "  0))"
            ]
          },
          "metadata": {},
          "execution_count": 16
        }
      ]
    },
    {
      "cell_type": "code",
      "execution_count": null,
      "metadata": {
        "id": "fytt0ruaI-6J"
      },
      "outputs": [],
      "source": [
        "# Train-test split (e.g., 80-20)\n",
        "train_size = int(0.8 * len(full_dataset))\n",
        "test_size = len(full_dataset) - train_size\n",
        "train_dataset, test_dataset = torch.utils.data.random_split(full_dataset, [train_size, test_size])\n",
        "\n",
        "# DataLoaders\n",
        "trainloader = DataLoader(train_dataset, batch_size=32, shuffle=True)\n",
        "testloader = DataLoader(test_dataset, batch_size=32, shuffle=False)"
      ]
    },
    {
      "cell_type": "code",
      "execution_count": null,
      "metadata": {
        "id": "yIydFEHYO2MY",
        "colab": {
          "base_uri": "https://localhost:8080/"
        },
        "outputId": "7f83017e-7231-4d6e-a60b-257c631a060a"
      },
      "outputs": [
        {
          "output_type": "execute_result",
          "data": {
            "text/plain": [
              "(tensor([[[-1.0000, -1.0000, -1.0000,  ..., -1.0000, -1.0000, -1.0000],\n",
              "          [-1.0000, -1.0000, -1.0000,  ..., -1.0000, -1.0000, -1.0000],\n",
              "          [-1.0000, -1.0000, -1.0000,  ..., -1.0000, -1.0000, -1.0000],\n",
              "          ...,\n",
              "          [-1.0000, -1.0000, -1.0000,  ..., -0.9922, -1.0000, -1.0000],\n",
              "          [-0.8745, -0.8510, -0.9216,  ..., -0.8118, -0.8745, -0.8980],\n",
              "          [ 0.1686,  0.1373,  0.1059,  ...,  0.2314,  0.2078,  0.2000]],\n",
              " \n",
              "         [[-0.4196, -0.0745,  0.1216,  ...,  0.1373,  0.0824, -0.2157],\n",
              "          [-0.3961,  0.0588,  0.0824,  ...,  0.0745,  0.0902,  0.0118],\n",
              "          [-0.4588,  0.0745,  0.0275,  ..., -0.0431,  0.0275, -0.2784],\n",
              "          ...,\n",
              "          [-0.4118, -0.0902, -0.0510,  ...,  0.0353, -0.2627, -0.7490],\n",
              "          [ 0.1059,  0.3882, -0.1608,  ...,  0.7333,  0.2471, -0.2078],\n",
              "          [ 0.1922,  0.1216,  0.1137,  ...,  0.1373,  0.0980,  0.0980]],\n",
              " \n",
              "         [[ 1.0000,  1.0000,  1.0000,  ...,  1.0000,  1.0000,  1.0000],\n",
              "          [ 1.0000,  1.0000,  1.0000,  ...,  1.0000,  1.0000,  1.0000],\n",
              "          [ 1.0000,  1.0000,  1.0000,  ...,  1.0000,  1.0000,  1.0000],\n",
              "          ...,\n",
              "          [ 1.0000,  1.0000,  1.0000,  ...,  0.9843,  0.9843,  0.8431],\n",
              "          [ 0.8510,  0.8196,  0.9059,  ...,  0.7647,  0.8431,  0.7804],\n",
              "          [-0.2627, -0.2863, -0.1686,  ..., -0.3333, -0.2863, -0.2392]]]),\n",
              " 4)"
            ]
          },
          "metadata": {},
          "execution_count": 18
        }
      ],
      "source": [
        "test_dataset[0]"
      ]
    },
    {
      "cell_type": "code",
      "execution_count": null,
      "metadata": {
        "id": "AxyIdAkXJR0_",
        "colab": {
          "base_uri": "https://localhost:8080/"
        },
        "outputId": "0b635d92-a97e-4d0a-865f-b080e00dc76f"
      },
      "outputs": [
        {
          "output_type": "execute_result",
          "data": {
            "text/plain": [
              "(842, 3367)"
            ]
          },
          "metadata": {},
          "execution_count": 19
        }
      ],
      "source": [
        "len(test_dataset), len(train_dataset)"
      ]
    },
    {
      "cell_type": "code",
      "execution_count": null,
      "metadata": {
        "id": "kpVnE7UCTzJi",
        "colab": {
          "base_uri": "https://localhost:8080/",
          "height": 316
        },
        "outputId": "f49580d3-64c6-4583-e3f2-4d51e0bf1c70"
      },
      "outputs": [
        {
          "output_type": "stream",
          "name": "stdout",
          "text": [
            "torch.Size([32, 3, 32, 32])\n",
            "tensor([3, 3, 2, 5, 1])\n"
          ]
        },
        {
          "output_type": "display_data",
          "data": {
            "text/plain": [
              "<Figure size 1200x300 with 5 Axes>"
            ],
            "image/png": "[encoded data removed]"
          },
          "metadata": {}
        }
      ],
      "source": [
        "import matplotlib.pyplot as plt\n",
        "import numpy as np\n",
        "\n",
        "images, labels = next(iter(trainloader))\n",
        "print(images.shape)  # Output: torch.Size([32, 4, 4, 4])  -> 32 images, 4 channel, 4x4 size\n",
        "print(labels[:5])    # Print first 5 labels\n",
        "\n",
        "# Function to display RGBA images\n",
        "def show_images(images, labels):\n",
        "    fig, axes = plt.subplots(1, 5, figsize=(12, 3))\n",
        "    for i in range(5):\n",
        "        img = images[i].permute(1, 2, 0).numpy()  # [C, H, W] -> [H, W, C]\n",
        "        if img.shape[2] == 4:  # Drop alpha channel if present\n",
        "            img = img[:, :, :3]\n",
        "        img = (img * 0.5) + 0.5  # De-normalize (from [-1, 1] to [0, 1])\n",
        "        axes[i].imshow(img)\n",
        "        axes[i].set_title(f'Label: {labels[i].item()}')\n",
        "        axes[i].axis('off')\n",
        "    plt.tight_layout()\n",
        "    plt.show()\n",
        "\n",
        "show_images(images, labels)\n"
      ]
    },
    {
      "cell_type": "code",
      "execution_count": null,
      "metadata": {
        "id": "MVA1841XUVIt",
        "colab": {
          "base_uri": "https://localhost:8080/"
        },
        "outputId": "3a7015ad-a7f0-4942-f34c-24efab1a7014"
      },
      "outputs": [
        {
          "output_type": "stream",
          "name": "stdout",
          "text": [
            "cuda\n"
          ]
        }
      ],
      "source": [
        "device = torch.device(\"cuda\" if torch.cuda.is_available() else \"cpu\")\n",
        "print(device)"
      ]
    },
    {
      "cell_type": "code",
      "source": [
        "from qiskit import QuantumCircuit\n",
        "from qiskit.circuit import Parameter\n",
        "from qiskit.quantum_info import Statevector, Pauli, SparsePauliOp\n",
        "import numpy as np\n",
        "\n",
        "NUM_QUBITS = 4\n",
        "QC_OUTPUTS = [f\"{i:04b}\" for i in range(16)]\n",
        "\n",
        "class QiskitCircuit():\n",
        "    def __init__(self, n_qubits):\n",
        "        self.n_qubits = n_qubits\n",
        "        self.thetas = [Parameter(f'theta_{i}') for i in range(2 * n_qubits)]\n",
        "        self.build_circuit()\n",
        "\n",
        "    def build_circuit(self):\n",
        "        self.circuit = QuantumCircuit(self.n_qubits)\n",
        "\n",
        "        self.circuit.h(range(self.n_qubits))\n",
        "        for i in range(self.n_qubits):\n",
        "            self.circuit.ry(self.thetas[i], i)\n",
        "\n",
        "        # simplified entanglement\n",
        "        for i in range(self.n_qubits - 1):\n",
        "            self.circuit.cx(i, i + 1)\n",
        "\n",
        "        for i in range(self.n_qubits):\n",
        "            self.circuit.ry(self.thetas[i + self.n_qubits], i)\n",
        "\n",
        "    def run(self, input_params):\n",
        "        param_dict = {self.thetas[i]: float(input_params[i].item()) for i in range(2 * self.n_qubits)}\n",
        "        bound_circuit = self.circuit.assign_parameters(param_dict, inplace=False)\n",
        "\n",
        "        # Run with statevector simulator\n",
        "        state = Statevector.from_instruction(bound_circuit)\n",
        "\n",
        "        # Probabilities over computational basis\n",
        "        probs = state.probabilities_dict()\n",
        "\n",
        "        # Create output vector in order of QC_OUTPUTS\n",
        "        expectation = np.array([probs.get(key, 0.0) for key in QC_OUTPUTS], dtype=np.float32)\n",
        "        return expectation\n"
      ],
      "metadata": {
        "id": "xSiyQ2LaVLt6"
      },
      "execution_count": null,
      "outputs": []
    },
    {
      "cell_type": "code",
      "source": [
        "import torch\n",
        "from torch.autograd import Function\n",
        "import numpy as np\n",
        "\n",
        "# Constants\n",
        "NUM_QUBITS = 4\n",
        "SHIFT = np.pi / 2\n",
        "\n",
        "# Updated: no need to use AerSimulator\n",
        "class TorchCircuit(Function):\n",
        "\n",
        "    @staticmethod\n",
        "    def forward(ctx, input_params):\n",
        "        if not hasattr(ctx, 'qiskit_circuit'):\n",
        "            ctx.qiskit_circuit = QiskitCircuit(NUM_QUBITS)\n",
        "\n",
        "\n",
        "\n",
        "        input_params = input_params.detach().clone().requires_grad_(False).to(device) # move input to device\n",
        "        exp_vals = ctx.qiskit_circuit.run(input_params)\n",
        "\n",
        "        result = torch.tensor(exp_vals, dtype=torch.float32, device=device) # move the result tensor to the device\n",
        "        ctx.save_for_backward(input_params, result)\n",
        "\n",
        "        return result\n",
        "\n",
        "    @staticmethod\n",
        "    def backward(ctx, grad_output):\n",
        "        input_params, _ = ctx.saved_tensors\n",
        "        gradients = []\n",
        "\n",
        "        # Parameter shift rule for gradient estimation\n",
        "        for i in range(2 * NUM_QUBITS):\n",
        "            shifted_right = input_params.clone()\n",
        "            shifted_left = input_params.clone()\n",
        "            shifted_right[i] += SHIFT\n",
        "            shifted_left[i] -= SHIFT\n",
        "\n",
        "            exp_right = ctx.qiskit_circuit.run(shifted_right)\n",
        "            exp_left = ctx.qiskit_circuit.run(shifted_left)\n",
        "\n",
        "            grad = (torch.tensor(exp_right, device=device) - torch.tensor(exp_left, device=device)) / 2.0 # move the tensors to the device\n",
        "            gradients.append(grad)\n",
        "\n",
        "        gradients = torch.stack(gradients, dim=1).to(device)  # shape: [output_dim, input_dim], move to device\n",
        "        grad_input = torch.matmul(grad_output.float().unsqueeze(0), gradients).squeeze(0)\n",
        "\n",
        "        return grad_input"
      ],
      "metadata": {
        "id": "CyCDbwCCUiEr"
      },
      "execution_count": null,
      "outputs": []
    },
    {
      "cell_type": "code",
      "source": [
        "print(\"--- Drawing Quantum Circuit Structure (once) ---\")\n",
        "try:\n",
        "    # Create a temporary instance just for drawing\n",
        "    temp_qiskit_circuit = QiskitCircuit(NUM_QUBITS)\n",
        "    circuit_structure = temp_qiskit_circuit.circuit\n",
        "    circuit_structure.draw('mpl', style='clifford')\n",
        "    plt.suptitle(\"Quantum Circuit Structure (Blueprint)\")\n",
        "    plt.show()\n",
        "    print(\"-> Matplotlib plot displayed.\")\n",
        "except Exception as e:\n",
        "    print(f\"-> Matplotlib drawing failed ({e}). Drawing circuit as text:\")\n",
        "    try:\n",
        "        # Recreate instance if needed, just to get text draw\n",
        "        temp_qiskit_circuit = QiskitCircuit(NUM_QUBITS)\n",
        "        print(temp_qiskit_circuit.circuit.draw('text'))\n",
        "    except Exception as e2:\n",
        "        print(f\"-> Text drawing also failed: {e2}\")\n",
        "print(\"---------------------------------------------\")"
      ],
      "metadata": {
        "colab": {
          "base_uri": "https://localhost:8080/"
        },
        "id": "3x1PHm0uj0aY",
        "outputId": "f7bcdf41-dcbb-4ac2-ccfa-7d471e247118"
      },
      "execution_count": null,
      "outputs": [
        {
          "output_type": "stream",
          "name": "stdout",
          "text": [
            "--- Drawing Quantum Circuit Structure (once) ---\n",
            "-> Matplotlib drawing failed (\"The 'pylatexenc' library is required to use 'MatplotlibDrawer'. You can install it with 'pip install pylatexenc'.\"). Drawing circuit as text:\n",
            "     ┌───┐┌─────────────┐     ┌─────────────┐                              \n",
            "q_0: ┤ H ├┤ Ry(theta_0) ├──■──┤ Ry(theta_4) ├──────────────────────────────\n",
            "     ├───┤├─────────────┤┌─┴─┐└─────────────┘┌─────────────┐               \n",
            "q_1: ┤ H ├┤ Ry(theta_1) ├┤ X ├───────■───────┤ Ry(theta_5) ├───────────────\n",
            "     ├───┤├─────────────┤└───┘     ┌─┴─┐     └─────────────┘┌─────────────┐\n",
            "q_2: ┤ H ├┤ Ry(theta_2) ├──────────┤ X ├────────────■───────┤ Ry(theta_6) ├\n",
            "     ├───┤├─────────────┤          └───┘          ┌─┴─┐     ├─────────────┤\n",
            "q_3: ┤ H ├┤ Ry(theta_3) ├─────────────────────────┤ X ├─────┤ Ry(theta_7) ├\n",
            "     └───┘└─────────────┘                         └───┘     └─────────────┘\n",
            "---------------------------------------------\n"
          ]
        }
      ]
    },
    {
      "cell_type": "code",
      "execution_count": null,
      "metadata": {
        "id": "TEZ6QscrWeRu"
      },
      "outputs": [],
      "source": [
        "import torch\n",
        "import torch.nn as nn\n",
        "import torch.nn.functional as F\n",
        "import numpy as np\n",
        "\n",
        "class Net(nn.Module):\n",
        "    def __init__(self):\n",
        "        super(Net, self).__init__()\n",
        "\n",
        "        # Updated to match 4-channel input\n",
        "        self.conv1 = nn.Conv2d(3, 16, kernel_size=3, padding=1)   # [32x32] → [16x32x32]\n",
        "        self.conv2 = nn.Conv2d(16, 32, kernel_size=3, padding=1)  # [32x32] → [32x32x32]\n",
        "        self.conv3 = nn.Conv2d(32, 64, kernel_size=3, padding=1)  # [32x32] → [64x32x32]\n",
        "\n",
        "        self.pool = nn.MaxPool2d(2, 2)  # Halves spatial dims each time\n",
        "\n",
        "        # After 3 conv + pool layers: [64, 4, 4] (32 → 16 → 8 → 4)\n",
        "        self.fc4 = nn.Linear(64 * 4 * 4, 2 * NUM_QUBITS)  # Generate quantum circuit parameters\n",
        "\n",
        "        self.qc = TorchCircuit.apply  # Quantum layer\n",
        "\n",
        "        self.fc5 = nn.Linear(len(QC_OUTPUTS), 6)  # Final classifier layer\n",
        "\n",
        "    def forward(self, x):\n",
        "        # x shape: [batch_size, 4, 32, 32]\n",
        "        x = self.pool(F.relu(self.conv1(x)))  # → [16, 16, 16]\n",
        "        x = self.pool(F.relu(self.conv2(x)))  # → [32, 8, 8]\n",
        "        x = self.pool(F.relu(self.conv3(x)))  # → [64, 4, 4]\n",
        "\n",
        "        x = x.view(x.size(0), -1)  # Flatten → [batch_size, 64*4*4 = 1024]\n",
        "        x = self.fc4(x)            # → [batch_size, 2 * NUM_QUBITS]\n",
        "        x = np.pi * torch.tanh(x)\n",
        "\n",
        "        # Quantum layer is run on each input in batch\n",
        "        qc_out = []\n",
        "        for i in range(x.size(0)):\n",
        "            out = self.qc(x[i])\n",
        "            qc_out.append(out)\n",
        "\n",
        "        x = torch.stack(qc_out)  # → [batch_size, len(QC_OUTPUTS)]\n",
        "        x = F.relu(x)\n",
        "        x = self.fc5(x.float())\n",
        "        x = F.softmax(x, dim=1)\n",
        "        return x\n",
        "\n",
        "    def predict(self, x):\n",
        "        with torch.no_grad():\n",
        "            pred = self.forward(x)\n",
        "            return torch.argmax(pred, dim=1).item()"
      ]
    },
    {
      "cell_type": "code",
      "source": [
        "import torch.nn as nn\n",
        "import torch.nn.functional as F\n",
        "import torch.optim as optim\n",
        "\n",
        "# Initialize model, loss function, and optimizer\n",
        "network = Net().to(device)  # Ensure model is on the correct device\n",
        "optimizer = optim.Adam(network.parameters(), lr=0.001)\n",
        "loss_func = nn.CrossEntropyLoss()\n",
        "\n",
        "# Training loop\n",
        "epochs = 15\n",
        "train_losses = []\n",
        "\n",
        "for epoch in range(epochs):\n",
        "    network.train()\n",
        "    running_loss = 0.0\n",
        "\n",
        "    for batch_idx, (data, target) in enumerate(trainloader):\n",
        "        data, target = data.to(device), target.to(device)  # Move to device\n",
        "\n",
        "        optimizer.zero_grad()\n",
        "\n",
        "        # Forward pass\n",
        "        output = network(data)\n",
        "        loss = loss_func(output, target)\n",
        "\n",
        "        # Backward pass\n",
        "        loss.backward()\n",
        "        optimizer.step()\n",
        "\n",
        "        running_loss += loss.item()\n",
        "\n",
        "        print(f\"\\r[Epoch {epoch+1}/{epochs}] Batch {batch_idx+1}/{len(trainloader)} - Loss: {loss.item():.4f}\", end='')\n",
        "\n",
        "    avg_loss = running_loss / len(trainloader)\n",
        "    train_losses.append(avg_loss)\n",
        "    print(f\"\\nEpoch {epoch+1} complete. Average Loss: {avg_loss:.4f}\")\n"
      ],
      "metadata": {
        "id": "EVO2bzR4VnG8",
        "colab": {
          "base_uri": "https://localhost:8080/"
        },
        "outputId": "90798756-a37f-407e-d92f-f990603f3042"
      },
      "execution_count": null,
      "outputs": [
        {
          "output_type": "stream",
          "name": "stdout",
          "text": [
            "[Epoch 1/15] Batch 106/106 - Loss: 1.8185\n",
            "Epoch 1 complete. Average Loss: 1.7749\n",
            "[Epoch 2/15] Batch 106/106 - Loss: 1.7803\n",
            "Epoch 2 complete. Average Loss: 1.7608\n",
            "[Epoch 3/15] Batch 106/106 - Loss: 1.7977\n",
            "Epoch 3 complete. Average Loss: 1.7459\n",
            "[Epoch 4/15] Batch 106/106 - Loss: 1.7069\n",
            "Epoch 4 complete. Average Loss: 1.7285\n",
            "[Epoch 5/15] Batch 106/106 - Loss: 1.6714\n",
            "Epoch 5 complete. Average Loss: 1.7096\n",
            "[Epoch 6/15] Batch 106/106 - Loss: 1.6700\n",
            "Epoch 6 complete. Average Loss: 1.6863\n",
            "[Epoch 7/15] Batch 106/106 - Loss: 1.7503\n",
            "Epoch 7 complete. Average Loss: 1.6500\n",
            "[Epoch 8/15] Batch 106/106 - Loss: 1.4274\n",
            "Epoch 8 complete. Average Loss: 1.6062\n",
            "[Epoch 9/15] Batch 106/106 - Loss: 1.4980\n",
            "Epoch 9 complete. Average Loss: 1.5724\n",
            "[Epoch 10/15] Batch 106/106 - Loss: 1.5409\n",
            "Epoch 10 complete. Average Loss: 1.5504\n",
            "[Epoch 11/15] Batch 106/106 - Loss: 1.4237\n",
            "Epoch 11 complete. Average Loss: 1.5184\n",
            "[Epoch 12/15] Batch 106/106 - Loss: 1.4375\n",
            "Epoch 12 complete. Average Loss: 1.4994\n",
            "[Epoch 13/15] Batch 106/106 - Loss: 1.4644\n",
            "Epoch 13 complete. Average Loss: 1.4846\n",
            "[Epoch 14/15] Batch 106/106 - Loss: 1.2872\n",
            "Epoch 14 complete. Average Loss: 1.4688\n",
            "[Epoch 15/15] Batch 106/106 - Loss: 1.6726\n",
            "Epoch 15 complete. Average Loss: 1.4587\n"
          ]
        }
      ]
    },
    {
      "cell_type": "code",
      "source": [
        "import torch\n",
        "from sklearn.metrics import confusion_matrix\n",
        "import numpy as np\n",
        "\n",
        "true_labels = []\n",
        "pred_labels = []\n",
        "\n",
        "# Collect predictions\n",
        "network.eval()\n",
        "with torch.no_grad():\n",
        "    for i in range(len(train_dataset)):\n",
        "        sample, label = train_dataset[i]\n",
        "        pred = network.predict(sample.unsqueeze(0).to(device))\n",
        "        true_labels.append(label)\n",
        "        pred_labels.append(pred)\n",
        "\n",
        "# Confusion matrix\n",
        "conf_mat = confusion_matrix(true_labels, pred_labels, labels=list(range(6)))\n",
        "print(\"Confusion Matrix:\\n\", conf_mat)\n",
        "\n",
        "# Convert to numpy\n",
        "conf_mat = np.array(conf_mat, dtype=np.float32)\n",
        "\n",
        "# Overall accuracy\n",
        "overall_accuracy = np.trace(conf_mat) / np.sum(conf_mat)\n",
        "print(f\"\\nOverall Accuracy: {overall_accuracy:.4f}\")\n",
        "\n",
        "# Sensitivity and Specificity for each class\n",
        "print(\"\\nClass-wise Metrics:\")\n",
        "for i in range(6):\n",
        "    TP = conf_mat[i, i]\n",
        "    FN = np.sum(conf_mat[i, :]) - TP\n",
        "    FP = np.sum(conf_mat[:, i]) - TP\n",
        "    TN = np.sum(conf_mat) - (TP + FP + FN)\n",
        "\n",
        "    sensitivity = TP / (TP + FN) if (TP + FN) > 0 else 0\n",
        "    specificity = TN / (TN + FP) if (TN + FP) > 0 else 0\n",
        "    class_accuracy = (TP + TN) / (TP + TN + FP + FN) if (TP + TN + FP + FN) > 0 else 0\n",
        "\n",
        "    print(f\"Class {i}: Accuracy: {class_accuracy:.4f}, Sensitivity (Recall): {sensitivity:.4f}, Specificity: {specificity:.4f}\")\n"
      ],
      "metadata": {
        "colab": {
          "base_uri": "https://localhost:8080/"
        },
        "id": "CDOpTQ89buDz",
        "outputId": "c8a30a92-4698-48df-a016-4b636fbcf61f"
      },
      "execution_count": null,
      "outputs": [
        {
          "output_type": "stream",
          "name": "stdout",
          "text": [
            "Confusion Matrix:\n",
            "[[349   0   0   0   0   2]\n",
            " [ 11 235   4   8   3  29]\n",
            " [  0   0 627   1   1   0]\n",
            " [  0   0   0 761   5   0]\n",
            " [  0   0   0   0 797   1]\n",
            " [  0   0   5   4   5 524]]\n",
            "\n",
            "Overall Accuracy: 0.9780\n",
            "\n",
            "Class-wise Metrics:\n",
            "Class 0: Accuracy: 0.9961, Sensitivity (Recall): 0.9943, Specificity: 0.9964\n",
            "Class 1: Accuracy: 0.9837, Sensitivity (Recall): 0.8103, Specificity: 1.0000\n",
            "Class 2: Accuracy: 0.9982, Sensitivity (Recall): 0.9968, Specificity: 0.9985\n",
            "Class 3: Accuracy: 0.9944, Sensitivity (Recall): 0.9935, Specificity: 0.9946\n",
            "Class 4: Accuracy: 0.9958, Sensitivity (Recall): 0.9987, Specificity: 0.9949\n",
            "Class 5: Accuracy: 0.9878, Sensitivity (Recall): 0.9831, Specificity: 0.9887\n"
          ]
        }
      ]
    },
    {
      "cell_type": "code",
      "source": [
        "import torch\n",
        "from sklearn.metrics import confusion_matrix\n",
        "import numpy as np\n",
        "\n",
        "true_labels = []\n",
        "pred_labels = []\n",
        "\n",
        "# Collect predictions\n",
        "network.eval()\n",
        "with torch.no_grad():\n",
        "    for i in range(len(test_dataset)):\n",
        "        sample, label = test_dataset[i]\n",
        "        pred = network.predict(sample.unsqueeze(0).to(device))\n",
        "        true_labels.append(label)\n",
        "        pred_labels.append(pred)\n",
        "\n",
        "# Confusion matrix\n",
        "conf_mat = confusion_matrix(true_labels, pred_labels, labels=list(range(6)))\n",
        "print(\"Confusion Matrix:\\n\", conf_mat)\n",
        "\n",
        "# Convert to numpy\n",
        "conf_mat = np.array(conf_mat, dtype=np.float32)\n",
        "\n",
        "# Overall accuracy\n",
        "overall_accuracy = np.trace(conf_mat) / np.sum(conf_mat)\n",
        "print(f\"\\nOverall Accuracy: {overall_accuracy:.4f}\")\n",
        "\n",
        "# Sensitivity and Specificity for each class\n",
        "print(\"\\nClass-wise Metrics:\")\n",
        "for i in range(6):\n",
        "    TP = conf_mat[i, i]\n",
        "    FN = np.sum(conf_mat[i, :]) - TP\n",
        "    FP = np.sum(conf_mat[:, i]) - TP\n",
        "    TN = np.sum(conf_mat) - (TP + FP + FN)\n",
        "\n",
        "    sensitivity = TP / (TP + FN) if (TP + FN) > 0 else 0\n",
        "    specificity = TN / (TN + FP) if (TN + FP) > 0 else 0\n",
        "    class_accuracy = (TP + TN) / (TP + TN + FP + FN) if (TP + TN + FP + FN) > 0 else 0\n",
        "\n",
        "    print(f\"Class {i}: Accuracy: {class_accuracy:.4f}, Sensitivity (Recall): {sensitivity:.4f}, Specificity: {specificity:.4f}\")\n"
      ],
      "metadata": {
        "colab": {
          "base_uri": "https://localhost:8080/"
        },
        "id": "sYMCA3KpgJI4",
        "outputId": "f840da03-7de5-431d-9267-36cea9d06193"
      },
      "execution_count": null,
      "outputs": [
        {
          "output_type": "stream",
          "name": "stdout",
          "text": [
            "Confusion Matrix:\n",
            "[[ 82   0   0   0   0   0]\n",
            " [  5  57   1   4   1  12]\n",
            " [  0   1 150   1   0   0]\n",
            " [  0   0   3 177   3   1]\n",
            " [  0   0   1   0 185   1]\n",
            " [  0   0   0   0   1 121]]\n",
            "\n",
            "Overall Accuracy: 95.6600\n",
            "\n",
            "Class-wise Metrics:\n",
            "Class 0: Accuracy: 0.9938, Sensitivity (Recall): 1.0000, Specificity: 0.9931\n",
            "Class 1: Accuracy: 0.9703, Sensitivity (Recall): 0.7125, Specificity: 0.9986\n",
            "Class 2: Accuracy: 0.9913, Sensitivity (Recall): 0.9868, Specificity: 0.9924\n",
            "Class 3: Accuracy: 0.9851, Sensitivity (Recall): 0.9620, Specificity: 0.9920\n",
            "Class 4: Accuracy: 0.9913, Sensitivity (Recall): 0.9893, Specificity: 0.9919\n",
            "Class 5: Accuracy: 0.9814, Sensitivity (Recall): 0.9918, Specificity: 0.9796\n"
          ]
        }
      ]
    }
  ],
  "metadata": {
    "colab": {
      "provenance": [],
      "gpuType": "T4"
    },
    "kernelspec": {
      "display_name": "Python 3",
      "name": "python3"
    },
    "language_info": {
      "name": "python"
    },
    "accelerator": "GPU"
  },
  "nbformat": 4,
  "nbformat_minor": 0
}